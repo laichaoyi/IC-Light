{
  "cells": [
    {
      "cell_type": "markdown",
      "metadata": {
        "colab_type": "text",
        "id": "view-in-github"
      },
      "source": [
        "<a href=\"https://colab.research.google.com/github/poomshift/IC-Light-colab/blob/main/IC_Light_Colab.ipynb\" target=\"_parent\"><img src=\"https://colab.research.google.com/assets/colab-badge.svg\" alt=\"Open In Colab\"/></a>"
      ]
    },
    {
      "cell_type": "code",
      "execution_count": null,
      "metadata": {
        "id": "cMSUi9mOQFIi"
      },
      "outputs": [],
      "source": [
        "!git clone https://github.com/laichaoyi/IC-Light-colab\n",
        "%cd IC-Light\n",
        "!pip install torch torchvision --index-url https://download.pytorch.org/whl/cu121\n",
        "!pip install -r requirements.txt"
      ]
    },
    {
      "cell_type": "code",
      "execution_count": null,
      "metadata": {
        "id": "9llQolobR4ov"
      },
      "outputs": [],
      "source": [
        "!python gradio_demo.py --listen"
      ]
    }
  ],
  "metadata": {
    "accelerator": "GPU",
    "colab": {
      "authorship_tag": "ABX9TyPQQKaw3X9jJBRYQZPsoH3W",
      "gpuType": "T4",
      "include_colab_link": true,
      "provenance": []
    },
    "kernelspec": {
      "display_name": "Python 3",
      "name": "python3"
    },
    "language_info": {
      "name": "python"
    }
  },
  "nbformat": 4,
  "nbformat_minor": 0
}
